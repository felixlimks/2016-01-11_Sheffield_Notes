{
 "cells": [
  {
   "cell_type": "code",
   "execution_count": 4,
   "metadata": {
    "autoscroll": "json-false",
    "collapsed": false,
    "ein.tags": [
     "worksheet-0"
    ]
   },
   "outputs": [],
   "source": [
    "from __future__ import division, print_function"
   ]
  },
  {
   "cell_type": "markdown",
   "metadata": {
    "ein.tags": [
     "worksheet-0"
    ]
   },
   "source": [
    "# Images in Astronomy"
   ]
  },
  {
   "cell_type": "markdown",
   "metadata": {
    "ein.tags": [
     "worksheet-0"
    ]
   },
   "source": [
    "In this lesson we are going to look at aspects of processing and viewing images specific to Astronomy and Solar Astronomy. By the end of this lesson you should understand:\n",
    "\n",
    "* Projected Coordinate Systems in Images\n",
    "* World Coordinate Systems\n",
    "* Using WCS to calculate coordinates in images\n",
    "* Plotting images with WCS in images\n",
    "* Using SunPy Map"
   ]
  },
  {
   "cell_type": "markdown",
   "metadata": {
    "ein.tags": [
     "worksheet-0"
    ]
   },
   "source": [
    "## Projected Coordinate Systems"
   ]
  },
  {
   "cell_type": "markdown",
   "metadata": {
    "ein.tags": [
     "worksheet-0"
    ]
   },
   "source": [
    "When taking images of the sky, we are projecting the spherical celestial coordinate system onto a 2-dimensional plane, which means that there is no simple linear relation between pixel coordinates and celestial coordinates\n",
    "\n",
    "There are multiple coordinate systems used to describe the locations in 2D and 3D space for both Astronomy and Solar Physics. We shall use a couple of these systems here as examples but if you want to know more about them there are many of resources avalible."
   ]
  },
  {
   "cell_type": "markdown",
   "metadata": {
    "ein.tags": [
     "worksheet-0"
    ]
   },
   "source": [
    "### World Coordinate System"
   ]
  },
  {
   "cell_type": "markdown",
   "metadata": {
    "ein.tags": [
     "worksheet-0"
    ]
   },
   "source": [
    "The FITS files have a standard for describing the physical coordinate system associated with imaging data, this is called the world coordinate system or WCS, sometimes the specific FITS version of this is referred to as FITS-WCS.\n",
    "\n",
    "There are multiple papers describing the FITS-WCS standard for various types of data, there is a list here: http://fits.gsfc.nasa.gov/fits_wcs.html"
   ]
  },
  {
   "cell_type": "markdown",
   "metadata": {
    "ein.tags": [
     "worksheet-0"
    ]
   },
   "source": [
    "As you learned in the previous lesson we can load FITS files with Astropy. To demonstrate a simple example of a FITS file with FITS-WCS information in the header we shall use an image from SunPy:"
   ]
  },
  {
   "cell_type": "code",
   "execution_count": 5,
   "metadata": {
    "autoscroll": "json-false",
    "collapsed": false,
    "ein.tags": [
     "worksheet-0"
    ],
    "scrolled": true
   },
   "outputs": [
    {
     "name": "stdout",
     "output_type": "stream",
     "text": [
      "Downloading sample files to /Users/felixlim/sunpy/data/sample_data\n",
      "Downloading http://data.sunpy.org/sample-data/hsi_calib_ev_20020220_1106_20020220_1106_25_40.fits [Done]\n",
      "Downloading http://data.sunpy.org/sample-data/swap_lv1_20120101_001607.fits [Done]\n",
      "Downloading http://data.sunpy.org/sample-data/ssw_cutout_20121030_153001_AIA_94_.fts [Done]\n",
      "Downloading http://data.sunpy.org/sample-data/eit_l1_20020625_100011.fits [Done]\n",
      "Downloading http://data.sunpy.org/sample-data/hsi_image_20101016_191218.fits [Done]\n",
      "Downloading http://data.sunpy.org/sample-data/BIR_20110922_103000_01.fit [Done]\n",
      "Downloading http://data.sunpy.org/sample-data/AIA20110319_105400_0171.fits [Done]\n",
      "Downloading http://data.sunpy.org/sample-data/aia.lev1.193A_2013-09-21T16_00_06.84Z.image_lev1.fits.zip [Done]\n",
      "Unpacking: aia.lev1.193A_2013-09-21T16_00_06.84Z.image_lev1.fits\n",
      "Downloading http://data.sunpy.org/sample-data/aiacalibim5.fits.gz [Done]\n",
      "Filename: /Users/felixlim/sunpy/data/sample_data/aiacalibim5.fits.gz\n",
      "No.    Name         Type      Cards   Dimensions   Format\n",
      "0    PRIMARY     PrimaryHDU     188   (4096, 4096)   int16   \n"
     ]
    }
   ],
   "source": [
    "import sunpy.data\n",
    "sunpy.data.download_sample_data()\n",
    "from astropy.io import fits\n",
    "from sunpy.data.sample import AIA_171_ROLL_IMAGE\n",
    "hdulist= fits.open(AIA_171_ROLL_IMAGE)\n",
    "\n",
    "hdulist.info()\n",
    "hdu=hdulist[0]\n",
    "#hdu.header shows header"
   ]
  },
  {
   "cell_type": "markdown",
   "metadata": {
    "ein.tags": [
     "worksheet-0"
    ]
   },
   "source": [
    "As you can see there are lots of keys in this and most other real world FITS headers. The ones we need to understand for FITS-WCS are:"
   ]
  },
  {
   "cell_type": "markdown",
   "metadata": {
    "ein.tags": [
     "worksheet-0"
    ]
   },
   "source": [
    "Reference Pixel and Coordinate:"
   ]
  },
  {
   "cell_type": "code",
   "execution_count": 6,
   "metadata": {
    "autoscroll": "json-false",
    "collapsed": false,
    "ein.tags": [
     "worksheet-0"
    ]
   },
   "outputs": [
    {
     "name": "stdout",
     "output_type": "stream",
     "text": [
      "0.0 0.0\n",
      "2053.459961 2047.880005\n"
     ]
    }
   ],
   "source": [
    "header = hdulist[0].header\n",
    "\n",
    "print(header['CRVAL1'], header['CRVAL2'])\n",
    "print(header['CRPIX1'], header['CRPIX2'])\n"
   ]
  },
  {
   "cell_type": "markdown",
   "metadata": {
    "ein.tags": [
     "worksheet-0"
    ]
   },
   "source": [
    "Pixel resolution (at the reference pixel):"
   ]
  },
  {
   "cell_type": "code",
   "execution_count": 7,
   "metadata": {
    "autoscroll": "json-false",
    "collapsed": false,
    "ein.tags": [
     "worksheet-0"
    ]
   },
   "outputs": [
    {
     "name": "stdout",
     "output_type": "stream",
     "text": [
      "0.599489 0.599489\n"
     ]
    }
   ],
   "source": [
    "print(header['CDELT1'], header['CDELT2'])"
   ]
  },
  {
   "cell_type": "markdown",
   "metadata": {
    "ein.tags": [
     "worksheet-0"
    ]
   },
   "source": [
    "Rotation angle, in degress (at the reference pixel):"
   ]
  },
  {
   "cell_type": "code",
   "execution_count": 8,
   "metadata": {
    "autoscroll": "json-false",
    "collapsed": false,
    "ein.tags": [
     "worksheet-0"
    ]
   },
   "outputs": [
    {
     "name": "stdout",
     "output_type": "stream",
     "text": [
      "-44.980717\n"
     ]
    }
   ],
   "source": [
    "print(header['CROTA2'])"
   ]
  },
  {
   "cell_type": "markdown",
   "metadata": {
    "ein.tags": [
     "worksheet-0"
    ]
   },
   "source": [
    "Coordinate System and Projection:"
   ]
  },
  {
   "cell_type": "code",
   "execution_count": 9,
   "metadata": {
    "autoscroll": "json-false",
    "collapsed": false,
    "ein.tags": [
     "worksheet-0"
    ]
   },
   "outputs": [
    {
     "name": "stdout",
     "output_type": "stream",
     "text": [
      "HPLN-TAN HPLT-TAN\n"
     ]
    }
   ],
   "source": [
    "print(header['CTYPE1'],header['CTYPE2'])"
   ]
  },
  {
   "cell_type": "markdown",
   "metadata": {},
   "source": [
    "<section class=\"objectives panel panel-success\">\n",
    "<div class=\"panel-heading\">\n",
    "<h2><span class=\"fa fa-pencil\"></span> Keyword Extraction </h2>\n",
    "</div>\n",
    "\n",
    "Extract and print out the `TELESCOP` value from the header.\n",
    "\n",
    "Next, extract the `WAVELNTH` and `WAVEUNIT` values, use these to construct an astropy Quantity object for the wavelength of this image.\n",
    "\n"
   ]
  },
  {
   "cell_type": "code",
   "execution_count": 10,
   "metadata": {
    "collapsed": false
   },
   "outputs": [
    {
     "name": "stdout",
     "output_type": "stream",
     "text": [
      "SDO/AIA\n"
     ]
    }
   ],
   "source": [
    "print(header['TELESCOP'])"
   ]
  },
  {
   "cell_type": "code",
   "execution_count": 11,
   "metadata": {
    "collapsed": false
   },
   "outputs": [
    {
     "name": "stdout",
     "output_type": "stream",
     "text": [
      "171\n",
      "angstrom\n"
     ]
    },
    {
     "data": {
      "text/latex": [
       "$\\mathrm{\\mathring{A}}$"
      ],
      "text/plain": [
       "Unit(\"Angstrom\")"
      ]
     },
     "execution_count": 11,
     "metadata": {},
     "output_type": "execute_result"
    }
   ],
   "source": [
    "print(header['WAVELNTH'])\n",
    "print(header['WAVEUNIT'])\n",
    "import astropy.units as u\n",
    "u.Unit('angstrom')"
   ]
  },
  {
   "cell_type": "code",
   "execution_count": 12,
   "metadata": {
    "collapsed": true
   },
   "outputs": [],
   "source": [
    "u.Quantity?"
   ]
  },
  {
   "cell_type": "markdown",
   "metadata": {
    "ein.tags": [
     "worksheet-0"
    ]
   },
   "source": [
    "We could now sit down and work out how to convert from a pixel coordinate to a physical coordinate described by this header (Helioprojective).\n",
    "\n",
    "However, we can cheat and just use Astropy."
   ]
  },
  {
   "cell_type": "code",
   "execution_count": 13,
   "metadata": {
    "autoscroll": "json-false",
    "collapsed": false,
    "ein.tags": [
     "worksheet-0"
    ]
   },
   "outputs": [
    {
     "name": "stderr",
     "output_type": "stream",
     "text": [
      "WARNING: VerifyWarning: Verification reported errors: [astropy.io.fits.verify]\n",
      "WARNING:astropy:VerifyWarning: Verification reported errors:\n",
      "WARNING: VerifyWarning: Card 'OSCNMEAN' is not FITS standard (invalid value string: 'nan').  Fixed 'OSCNMEAN' card to meet the FITS standard. [astropy.io.fits.verify]\n",
      "WARNING:astropy:VerifyWarning: Card 'OSCNMEAN' is not FITS standard (invalid value string: 'nan').  Fixed 'OSCNMEAN' card to meet the FITS standard.\n",
      "WARNING: VerifyWarning: Note: PyFITS uses zero-based indexing.\n",
      " [astropy.io.fits.verify]\n",
      "WARNING:astropy:VerifyWarning: Note: PyFITS uses zero-based indexing.\n",
      "\n",
      "WARNING: VerifyWarning: Card 'OSCNRMS' is not FITS standard (invalid value string: 'nan').  Fixed 'OSCNRMS' card to meet the FITS standard. [astropy.io.fits.verify]\n",
      "WARNING:astropy:VerifyWarning: Card 'OSCNRMS' is not FITS standard (invalid value string: 'nan').  Fixed 'OSCNRMS' card to meet the FITS standard.\n"
     ]
    }
   ],
   "source": [
    "from astropy.wcs import WCS\n",
    "wcs=WCS(header)\n",
    "\n"
   ]
  },
  {
   "cell_type": "markdown",
   "metadata": {
    "ein.tags": [
     "worksheet-0"
    ]
   },
   "source": [
    "We can convert from pixel to world coordinate:"
   ]
  },
  {
   "cell_type": "code",
   "execution_count": 14,
   "metadata": {
    "autoscroll": "json-false",
    "collapsed": false,
    "ein.tags": [
     "worksheet-0"
    ]
   },
   "outputs": [
    {
     "data": {
      "text/plain": [
       "array([[  3.59587957e+02,   5.18354457e-04]])"
      ]
     },
     "execution_count": 14,
     "metadata": {},
     "output_type": "execute_result"
    }
   ],
   "source": [
    "wcs.all_pix2world([[300,300]],0)  #specify coordinates. "
   ]
  },
  {
   "cell_type": "markdown",
   "metadata": {
    "ein.tags": [
     "worksheet-0"
    ]
   },
   "source": [
    "Or back again:"
   ]
  },
  {
   "cell_type": "code",
   "execution_count": null,
   "metadata": {
    "autoscroll": "json-false",
    "collapsed": false,
    "ein.tags": [
     "worksheet-0"
    ]
   },
   "outputs": [],
   "source": []
  },
  {
   "cell_type": "markdown",
   "metadata": {
    "ein.tags": [
     "worksheet-0"
    ]
   },
   "source": [
    "The last parameter to the two above examples is the 'origin' parameter. It is a flag that tells WCS if you indexes should be 0-based (like numpy) or 1-based (like FITS).\n",
    "Here we are using 0 as we want to convert to and from numpy indexes of the array."
   ]
  },
  {
   "cell_type": "markdown",
   "metadata": {
    "ein.tags": [
     "worksheet-0"
    ]
   },
   "source": [
    "<section class=\"objectives panel panel-success\">\n",
    "<div class=\"panel-heading\">\n",
    "<h2><span class=\"fa fa-pencil\"></span> How large is the image? </h2>\n",
    "</div>\n",
    "<br/>\n",
    "To get a little practise using Astropy's WCS calculate the world coordinates of the following pixels:\n",
    "<code>\n",
    "[-500, 0]\n",
    "[500, 500]\n",
    "[0, 0]\n",
    "</code>\n",
    "<br/>\n",
    "</section>"
   ]
  },
  {
   "cell_type": "code",
   "execution_count": 15,
   "metadata": {
    "autoscroll": "json-false",
    "collapsed": false,
    "ein.tags": [
     "worksheet-0"
    ]
   },
   "outputs": [
    {
     "data": {
      "text/plain": [
       "array([[  3.59517311e+02,   4.94572769e-04]])"
      ]
     },
     "execution_count": 15,
     "metadata": {},
     "output_type": "execute_result"
    }
   ],
   "source": [
    "wcs.all_pix2world([[-500,0]],0)\n",
    "wcs.all_pix2world([[500,500]],0)\n",
    "wcs.all_pix2world([[0,0]],0)\n"
   ]
  },
  {
   "cell_type": "markdown",
   "metadata": {
    "ein.tags": [
     "worksheet-0"
    ]
   },
   "source": [
    "## Plotting with wcsaxes"
   ]
  },
  {
   "cell_type": "markdown",
   "metadata": {
    "ein.tags": [
     "worksheet-0"
    ]
   },
   "source": [
    "In this section we are going to use the wcsaxes package to make WCS aware image plots."
   ]
  },
  {
   "cell_type": "code",
   "execution_count": 16,
   "metadata": {
    "autoscroll": "json-false",
    "collapsed": false,
    "ein.tags": [
     "worksheet-0"
    ]
   },
   "outputs": [],
   "source": [
    "import wcsaxes"
   ]
  },
  {
   "cell_type": "markdown",
   "metadata": {
    "ein.tags": [
     "worksheet-0"
    ]
   },
   "source": [
    "For this example we are going to use a Hubble image."
   ]
  },
  {
   "cell_type": "code",
   "execution_count": 17,
   "metadata": {
    "autoscroll": "json-false",
    "collapsed": false,
    "ein.tags": [
     "worksheet-0"
    ]
   },
   "outputs": [
    {
     "name": "stdout",
     "output_type": "stream",
     "text": [
      "Filename: ./h_n4571_f555_mosaic.fits.gz\n",
      "No.    Name         Type      Cards   Dimensions   Format\n",
      "0    PRIMARY     PrimaryHDU    1151   (4096, 4096)   float32   \n"
     ]
    }
   ],
   "source": [
    "from astropy.io import fits\n",
    "hdulist = fits.open('./h_n4571_f555_mosaic.fits.gz')\n",
    "hdulist.info()\n"
   ]
  },
  {
   "cell_type": "code",
   "execution_count": 22,
   "metadata": {
    "collapsed": false
   },
   "outputs": [],
   "source": [
    "wcs=WCS(hdulist[0].header)\n"
   ]
  },
  {
   "cell_type": "code",
   "execution_count": 23,
   "metadata": {
    "autoscroll": "json-false",
    "collapsed": false,
    "ein.tags": [
     "worksheet-0"
    ]
   },
   "outputs": [],
   "source": [
    "%matplotlib nbagg\n",
    "import matplotlib.pyplot as plt\n"
   ]
  },
  {
   "cell_type": "code",
   "execution_count": 34,
   "metadata": {
    "autoscroll": "json-false",
    "collapsed": false,
    "ein.tags": [
     "worksheet-0"
    ]
   },
   "outputs": [
    {
     "data": {
      "application/javascript": [
       "/* Put everything inside the global mpl namespace */\n",
       "window.mpl = {};\n",
       "\n",
       "mpl.get_websocket_type = function() {\n",
       "    if (typeof(WebSocket) !== 'undefined') {\n",
       "        return WebSocket;\n",
       "    } else if (typeof(MozWebSocket) !== 'undefined') {\n",
       "        return MozWebSocket;\n",
       "    } else {\n",
       "        alert('Your browser does not have WebSocket support.' +\n",
       "              'Please try Chrome, Safari or Firefox ≥ 6. ' +\n",
       "              'Firefox 4 and 5 are also supported but you ' +\n",
       "              'have to enable WebSockets in about:config.');\n",
       "    };\n",
       "}\n",
       "\n",
       "mpl.figure = function(figure_id, websocket, ondownload, parent_element) {\n",
       "    this.id = figure_id;\n",
       "\n",
       "    this.ws = websocket;\n",
       "\n",
       "    this.supports_binary = (this.ws.binaryType != undefined);\n",
       "\n",
       "    if (!this.supports_binary) {\n",
       "        var warnings = document.getElementById(\"mpl-warnings\");\n",
       "        if (warnings) {\n",
       "            warnings.style.display = 'block';\n",
       "            warnings.textContent = (\n",
       "                \"This browser does not support binary websocket messages. \" +\n",
       "                    \"Performance may be slow.\");\n",
       "        }\n",
       "    }\n",
       "\n",
       "    this.imageObj = new Image();\n",
       "\n",
       "    this.context = undefined;\n",
       "    this.message = undefined;\n",
       "    this.canvas = undefined;\n",
       "    this.rubberband_canvas = undefined;\n",
       "    this.rubberband_context = undefined;\n",
       "    this.format_dropdown = undefined;\n",
       "\n",
       "    this.image_mode = 'full';\n",
       "\n",
       "    this.root = $('<div/>');\n",
       "    this._root_extra_style(this.root)\n",
       "    this.root.attr('style', 'display: inline-block');\n",
       "\n",
       "    $(parent_element).append(this.root);\n",
       "\n",
       "    this._init_header(this);\n",
       "    this._init_canvas(this);\n",
       "    this._init_toolbar(this);\n",
       "\n",
       "    var fig = this;\n",
       "\n",
       "    this.waiting = false;\n",
       "\n",
       "    this.ws.onopen =  function () {\n",
       "            fig.send_message(\"supports_binary\", {value: fig.supports_binary});\n",
       "            fig.send_message(\"send_image_mode\", {});\n",
       "            fig.send_message(\"refresh\", {});\n",
       "        }\n",
       "\n",
       "    this.imageObj.onload = function() {\n",
       "            if (fig.image_mode == 'full') {\n",
       "                // Full images could contain transparency (where diff images\n",
       "                // almost always do), so we need to clear the canvas so that\n",
       "                // there is no ghosting.\n",
       "                fig.context.clearRect(0, 0, fig.canvas.width, fig.canvas.height);\n",
       "            }\n",
       "            fig.context.drawImage(fig.imageObj, 0, 0);\n",
       "        };\n",
       "\n",
       "    this.imageObj.onunload = function() {\n",
       "        this.ws.close();\n",
       "    }\n",
       "\n",
       "    this.ws.onmessage = this._make_on_message_function(this);\n",
       "\n",
       "    this.ondownload = ondownload;\n",
       "}\n",
       "\n",
       "mpl.figure.prototype._init_header = function() {\n",
       "    var titlebar = $(\n",
       "        '<div class=\"ui-dialog-titlebar ui-widget-header ui-corner-all ' +\n",
       "        'ui-helper-clearfix\"/>');\n",
       "    var titletext = $(\n",
       "        '<div class=\"ui-dialog-title\" style=\"width: 100%; ' +\n",
       "        'text-align: center; padding: 3px;\"/>');\n",
       "    titlebar.append(titletext)\n",
       "    this.root.append(titlebar);\n",
       "    this.header = titletext[0];\n",
       "}\n",
       "\n",
       "\n",
       "\n",
       "mpl.figure.prototype._canvas_extra_style = function(canvas_div) {\n",
       "\n",
       "}\n",
       "\n",
       "\n",
       "mpl.figure.prototype._root_extra_style = function(canvas_div) {\n",
       "\n",
       "}\n",
       "\n",
       "mpl.figure.prototype._init_canvas = function() {\n",
       "    var fig = this;\n",
       "\n",
       "    var canvas_div = $('<div/>');\n",
       "\n",
       "    canvas_div.attr('style', 'position: relative; clear: both; outline: 0');\n",
       "\n",
       "    function canvas_keyboard_event(event) {\n",
       "        return fig.key_event(event, event['data']);\n",
       "    }\n",
       "\n",
       "    canvas_div.keydown('key_press', canvas_keyboard_event);\n",
       "    canvas_div.keyup('key_release', canvas_keyboard_event);\n",
       "    this.canvas_div = canvas_div\n",
       "    this._canvas_extra_style(canvas_div)\n",
       "    this.root.append(canvas_div);\n",
       "\n",
       "    var canvas = $('<canvas/>');\n",
       "    canvas.addClass('mpl-canvas');\n",
       "    canvas.attr('style', \"left: 0; top: 0; z-index: 0; outline: 0\")\n",
       "\n",
       "    this.canvas = canvas[0];\n",
       "    this.context = canvas[0].getContext(\"2d\");\n",
       "\n",
       "    var rubberband = $('<canvas/>');\n",
       "    rubberband.attr('style', \"position: absolute; left: 0; top: 0; z-index: 1;\")\n",
       "\n",
       "    var pass_mouse_events = true;\n",
       "\n",
       "    canvas_div.resizable({\n",
       "        start: function(event, ui) {\n",
       "            pass_mouse_events = false;\n",
       "        },\n",
       "        resize: function(event, ui) {\n",
       "            fig.request_resize(ui.size.width, ui.size.height);\n",
       "        },\n",
       "        stop: function(event, ui) {\n",
       "            pass_mouse_events = true;\n",
       "            fig.request_resize(ui.size.width, ui.size.height);\n",
       "        },\n",
       "    });\n",
       "\n",
       "    function mouse_event_fn(event) {\n",
       "        if (pass_mouse_events)\n",
       "            return fig.mouse_event(event, event['data']);\n",
       "    }\n",
       "\n",
       "    rubberband.mousedown('button_press', mouse_event_fn);\n",
       "    rubberband.mouseup('button_release', mouse_event_fn);\n",
       "    // Throttle sequential mouse events to 1 every 20ms.\n",
       "    rubberband.mousemove('motion_notify', mouse_event_fn);\n",
       "\n",
       "    rubberband.mouseenter('figure_enter', mouse_event_fn);\n",
       "    rubberband.mouseleave('figure_leave', mouse_event_fn);\n",
       "\n",
       "    canvas_div.on(\"wheel\", function (event) {\n",
       "        event = event.originalEvent;\n",
       "        event['data'] = 'scroll'\n",
       "        if (event.deltaY < 0) {\n",
       "            event.step = 1;\n",
       "        } else {\n",
       "            event.step = -1;\n",
       "        }\n",
       "        mouse_event_fn(event);\n",
       "    });\n",
       "\n",
       "    canvas_div.append(canvas);\n",
       "    canvas_div.append(rubberband);\n",
       "\n",
       "    this.rubberband = rubberband;\n",
       "    this.rubberband_canvas = rubberband[0];\n",
       "    this.rubberband_context = rubberband[0].getContext(\"2d\");\n",
       "    this.rubberband_context.strokeStyle = \"#000000\";\n",
       "\n",
       "    this._resize_canvas = function(width, height) {\n",
       "        // Keep the size of the canvas, canvas container, and rubber band\n",
       "        // canvas in synch.\n",
       "        canvas_div.css('width', width)\n",
       "        canvas_div.css('height', height)\n",
       "\n",
       "        canvas.attr('width', width);\n",
       "        canvas.attr('height', height);\n",
       "\n",
       "        rubberband.attr('width', width);\n",
       "        rubberband.attr('height', height);\n",
       "    }\n",
       "\n",
       "    // Set the figure to an initial 600x600px, this will subsequently be updated\n",
       "    // upon first draw.\n",
       "    this._resize_canvas(600, 600);\n",
       "\n",
       "    // Disable right mouse context menu.\n",
       "    $(this.rubberband_canvas).bind(\"contextmenu\",function(e){\n",
       "        return false;\n",
       "    });\n",
       "\n",
       "    function set_focus () {\n",
       "        canvas.focus();\n",
       "        canvas_div.focus();\n",
       "    }\n",
       "\n",
       "    window.setTimeout(set_focus, 100);\n",
       "}\n",
       "\n",
       "mpl.figure.prototype._init_toolbar = function() {\n",
       "    var fig = this;\n",
       "\n",
       "    var nav_element = $('<div/>')\n",
       "    nav_element.attr('style', 'width: 100%');\n",
       "    this.root.append(nav_element);\n",
       "\n",
       "    // Define a callback function for later on.\n",
       "    function toolbar_event(event) {\n",
       "        return fig.toolbar_button_onclick(event['data']);\n",
       "    }\n",
       "    function toolbar_mouse_event(event) {\n",
       "        return fig.toolbar_button_onmouseover(event['data']);\n",
       "    }\n",
       "\n",
       "    for(var toolbar_ind in mpl.toolbar_items) {\n",
       "        var name = mpl.toolbar_items[toolbar_ind][0];\n",
       "        var tooltip = mpl.toolbar_items[toolbar_ind][1];\n",
       "        var image = mpl.toolbar_items[toolbar_ind][2];\n",
       "        var method_name = mpl.toolbar_items[toolbar_ind][3];\n",
       "\n",
       "        if (!name) {\n",
       "            // put a spacer in here.\n",
       "            continue;\n",
       "        }\n",
       "        var button = $('<button/>');\n",
       "        button.addClass('ui-button ui-widget ui-state-default ui-corner-all ' +\n",
       "                        'ui-button-icon-only');\n",
       "        button.attr('role', 'button');\n",
       "        button.attr('aria-disabled', 'false');\n",
       "        button.click(method_name, toolbar_event);\n",
       "        button.mouseover(tooltip, toolbar_mouse_event);\n",
       "\n",
       "        var icon_img = $('<span/>');\n",
       "        icon_img.addClass('ui-button-icon-primary ui-icon');\n",
       "        icon_img.addClass(image);\n",
       "        icon_img.addClass('ui-corner-all');\n",
       "\n",
       "        var tooltip_span = $('<span/>');\n",
       "        tooltip_span.addClass('ui-button-text');\n",
       "        tooltip_span.html(tooltip);\n",
       "\n",
       "        button.append(icon_img);\n",
       "        button.append(tooltip_span);\n",
       "\n",
       "        nav_element.append(button);\n",
       "    }\n",
       "\n",
       "    var fmt_picker_span = $('<span/>');\n",
       "\n",
       "    var fmt_picker = $('<select/>');\n",
       "    fmt_picker.addClass('mpl-toolbar-option ui-widget ui-widget-content');\n",
       "    fmt_picker_span.append(fmt_picker);\n",
       "    nav_element.append(fmt_picker_span);\n",
       "    this.format_dropdown = fmt_picker[0];\n",
       "\n",
       "    for (var ind in mpl.extensions) {\n",
       "        var fmt = mpl.extensions[ind];\n",
       "        var option = $(\n",
       "            '<option/>', {selected: fmt === mpl.default_extension}).html(fmt);\n",
       "        fmt_picker.append(option)\n",
       "    }\n",
       "\n",
       "    // Add hover states to the ui-buttons\n",
       "    $( \".ui-button\" ).hover(\n",
       "        function() { $(this).addClass(\"ui-state-hover\");},\n",
       "        function() { $(this).removeClass(\"ui-state-hover\");}\n",
       "    );\n",
       "\n",
       "    var status_bar = $('<span class=\"mpl-message\"/>');\n",
       "    nav_element.append(status_bar);\n",
       "    this.message = status_bar[0];\n",
       "}\n",
       "\n",
       "mpl.figure.prototype.request_resize = function(x_pixels, y_pixels) {\n",
       "    // Request matplotlib to resize the figure. Matplotlib will then trigger a resize in the client,\n",
       "    // which will in turn request a refresh of the image.\n",
       "    this.send_message('resize', {'width': x_pixels, 'height': y_pixels});\n",
       "}\n",
       "\n",
       "mpl.figure.prototype.send_message = function(type, properties) {\n",
       "    properties['type'] = type;\n",
       "    properties['figure_id'] = this.id;\n",
       "    this.ws.send(JSON.stringify(properties));\n",
       "}\n",
       "\n",
       "mpl.figure.prototype.send_draw_message = function() {\n",
       "    if (!this.waiting) {\n",
       "        this.waiting = true;\n",
       "        this.ws.send(JSON.stringify({type: \"draw\", figure_id: this.id}));\n",
       "    }\n",
       "}\n",
       "\n",
       "\n",
       "mpl.figure.prototype.handle_save = function(fig, msg) {\n",
       "    var format_dropdown = fig.format_dropdown;\n",
       "    var format = format_dropdown.options[format_dropdown.selectedIndex].value;\n",
       "    fig.ondownload(fig, format);\n",
       "}\n",
       "\n",
       "\n",
       "mpl.figure.prototype.handle_resize = function(fig, msg) {\n",
       "    var size = msg['size'];\n",
       "    if (size[0] != fig.canvas.width || size[1] != fig.canvas.height) {\n",
       "        fig._resize_canvas(size[0], size[1]);\n",
       "        fig.send_message(\"refresh\", {});\n",
       "    };\n",
       "}\n",
       "\n",
       "mpl.figure.prototype.handle_rubberband = function(fig, msg) {\n",
       "    var x0 = msg['x0'];\n",
       "    var y0 = fig.canvas.height - msg['y0'];\n",
       "    var x1 = msg['x1'];\n",
       "    var y1 = fig.canvas.height - msg['y1'];\n",
       "    x0 = Math.floor(x0) + 0.5;\n",
       "    y0 = Math.floor(y0) + 0.5;\n",
       "    x1 = Math.floor(x1) + 0.5;\n",
       "    y1 = Math.floor(y1) + 0.5;\n",
       "    var min_x = Math.min(x0, x1);\n",
       "    var min_y = Math.min(y0, y1);\n",
       "    var width = Math.abs(x1 - x0);\n",
       "    var height = Math.abs(y1 - y0);\n",
       "\n",
       "    fig.rubberband_context.clearRect(\n",
       "        0, 0, fig.canvas.width, fig.canvas.height);\n",
       "\n",
       "    fig.rubberband_context.strokeRect(min_x, min_y, width, height);\n",
       "}\n",
       "\n",
       "mpl.figure.prototype.handle_figure_label = function(fig, msg) {\n",
       "    // Updates the figure title.\n",
       "    fig.header.textContent = msg['label'];\n",
       "}\n",
       "\n",
       "mpl.figure.prototype.handle_cursor = function(fig, msg) {\n",
       "    var cursor = msg['cursor'];\n",
       "    switch(cursor)\n",
       "    {\n",
       "    case 0:\n",
       "        cursor = 'pointer';\n",
       "        break;\n",
       "    case 1:\n",
       "        cursor = 'default';\n",
       "        break;\n",
       "    case 2:\n",
       "        cursor = 'crosshair';\n",
       "        break;\n",
       "    case 3:\n",
       "        cursor = 'move';\n",
       "        break;\n",
       "    }\n",
       "    fig.rubberband_canvas.style.cursor = cursor;\n",
       "}\n",
       "\n",
       "mpl.figure.prototype.handle_message = function(fig, msg) {\n",
       "    fig.message.textContent = msg['message'];\n",
       "}\n",
       "\n",
       "mpl.figure.prototype.handle_draw = function(fig, msg) {\n",
       "    // Request the server to send over a new figure.\n",
       "    fig.send_draw_message();\n",
       "}\n",
       "\n",
       "mpl.figure.prototype.handle_image_mode = function(fig, msg) {\n",
       "    fig.image_mode = msg['mode'];\n",
       "}\n",
       "\n",
       "mpl.figure.prototype.updated_canvas_event = function() {\n",
       "    // Called whenever the canvas gets updated.\n",
       "    this.send_message(\"ack\", {});\n",
       "}\n",
       "\n",
       "// A function to construct a web socket function for onmessage handling.\n",
       "// Called in the figure constructor.\n",
       "mpl.figure.prototype._make_on_message_function = function(fig) {\n",
       "    return function socket_on_message(evt) {\n",
       "        if (evt.data instanceof Blob) {\n",
       "            /* FIXME: We get \"Resource interpreted as Image but\n",
       "             * transferred with MIME type text/plain:\" errors on\n",
       "             * Chrome.  But how to set the MIME type?  It doesn't seem\n",
       "             * to be part of the websocket stream */\n",
       "            evt.data.type = \"image/png\";\n",
       "\n",
       "            /* Free the memory for the previous frames */\n",
       "            if (fig.imageObj.src) {\n",
       "                (window.URL || window.webkitURL).revokeObjectURL(\n",
       "                    fig.imageObj.src);\n",
       "            }\n",
       "\n",
       "            fig.imageObj.src = (window.URL || window.webkitURL).createObjectURL(\n",
       "                evt.data);\n",
       "            fig.updated_canvas_event();\n",
       "            fig.waiting = false;\n",
       "            return;\n",
       "        }\n",
       "        else if (typeof evt.data === 'string' && evt.data.slice(0, 21) == \"data:image/png;base64\") {\n",
       "            fig.imageObj.src = evt.data;\n",
       "            fig.updated_canvas_event();\n",
       "            fig.waiting = false;\n",
       "            return;\n",
       "        }\n",
       "\n",
       "        var msg = JSON.parse(evt.data);\n",
       "        var msg_type = msg['type'];\n",
       "\n",
       "        // Call the  \"handle_{type}\" callback, which takes\n",
       "        // the figure and JSON message as its only arguments.\n",
       "        try {\n",
       "            var callback = fig[\"handle_\" + msg_type];\n",
       "        } catch (e) {\n",
       "            console.log(\"No handler for the '\" + msg_type + \"' message type: \", msg);\n",
       "            return;\n",
       "        }\n",
       "\n",
       "        if (callback) {\n",
       "            try {\n",
       "                // console.log(\"Handling '\" + msg_type + \"' message: \", msg);\n",
       "                callback(fig, msg);\n",
       "            } catch (e) {\n",
       "                console.log(\"Exception inside the 'handler_\" + msg_type + \"' callback:\", e, e.stack, msg);\n",
       "            }\n",
       "        }\n",
       "    };\n",
       "}\n",
       "\n",
       "// from http://stackoverflow.com/questions/1114465/getting-mouse-location-in-canvas\n",
       "mpl.findpos = function(e) {\n",
       "    //this section is from http://www.quirksmode.org/js/events_properties.html\n",
       "    var targ;\n",
       "    if (!e)\n",
       "        e = window.event;\n",
       "    if (e.target)\n",
       "        targ = e.target;\n",
       "    else if (e.srcElement)\n",
       "        targ = e.srcElement;\n",
       "    if (targ.nodeType == 3) // defeat Safari bug\n",
       "        targ = targ.parentNode;\n",
       "\n",
       "    // jQuery normalizes the pageX and pageY\n",
       "    // pageX,Y are the mouse positions relative to the document\n",
       "    // offset() returns the position of the element relative to the document\n",
       "    var x = e.pageX - $(targ).offset().left;\n",
       "    var y = e.pageY - $(targ).offset().top;\n",
       "\n",
       "    return {\"x\": x, \"y\": y};\n",
       "};\n",
       "\n",
       "/*\n",
       " * return a copy of an object with only non-object keys\n",
       " * we need this to avoid circular references\n",
       " * http://stackoverflow.com/a/24161582/3208463\n",
       " */\n",
       "function simpleKeys (original) {\n",
       "  return Object.keys(original).reduce(function (obj, key) {\n",
       "    if (typeof original[key] !== 'object')\n",
       "        obj[key] = original[key]\n",
       "    return obj;\n",
       "  }, {});\n",
       "}\n",
       "\n",
       "mpl.figure.prototype.mouse_event = function(event, name) {\n",
       "    var canvas_pos = mpl.findpos(event)\n",
       "\n",
       "    if (name === 'button_press')\n",
       "    {\n",
       "        this.canvas.focus();\n",
       "        this.canvas_div.focus();\n",
       "    }\n",
       "\n",
       "    var x = canvas_pos.x;\n",
       "    var y = canvas_pos.y;\n",
       "\n",
       "    this.send_message(name, {x: x, y: y, button: event.button,\n",
       "                             step: event.step,\n",
       "                             guiEvent: simpleKeys(event)});\n",
       "\n",
       "    /* This prevents the web browser from automatically changing to\n",
       "     * the text insertion cursor when the button is pressed.  We want\n",
       "     * to control all of the cursor setting manually through the\n",
       "     * 'cursor' event from matplotlib */\n",
       "    event.preventDefault();\n",
       "    return false;\n",
       "}\n",
       "\n",
       "mpl.figure.prototype._key_event_extra = function(event, name) {\n",
       "    // Handle any extra behaviour associated with a key event\n",
       "}\n",
       "\n",
       "mpl.figure.prototype.key_event = function(event, name) {\n",
       "\n",
       "    // Prevent repeat events\n",
       "    if (name == 'key_press')\n",
       "    {\n",
       "        if (event.which === this._key)\n",
       "            return;\n",
       "        else\n",
       "            this._key = event.which;\n",
       "    }\n",
       "    if (name == 'key_release')\n",
       "        this._key = null;\n",
       "\n",
       "    var value = '';\n",
       "    if (event.ctrlKey && event.which != 17)\n",
       "        value += \"ctrl+\";\n",
       "    if (event.altKey && event.which != 18)\n",
       "        value += \"alt+\";\n",
       "    if (event.shiftKey && event.which != 16)\n",
       "        value += \"shift+\";\n",
       "\n",
       "    value += 'k';\n",
       "    value += event.which.toString();\n",
       "\n",
       "    this._key_event_extra(event, name);\n",
       "\n",
       "    this.send_message(name, {key: value,\n",
       "                             guiEvent: simpleKeys(event)});\n",
       "    return false;\n",
       "}\n",
       "\n",
       "mpl.figure.prototype.toolbar_button_onclick = function(name) {\n",
       "    if (name == 'download') {\n",
       "        this.handle_save(this, null);\n",
       "    } else {\n",
       "        this.send_message(\"toolbar_button\", {name: name});\n",
       "    }\n",
       "};\n",
       "\n",
       "mpl.figure.prototype.toolbar_button_onmouseover = function(tooltip) {\n",
       "    this.message.textContent = tooltip;\n",
       "};\n",
       "mpl.toolbar_items = [[\"Home\", \"Reset original view\", \"fa fa-home icon-home\", \"home\"], [\"Back\", \"Back to  previous view\", \"fa fa-arrow-left icon-arrow-left\", \"back\"], [\"Forward\", \"Forward to next view\", \"fa fa-arrow-right icon-arrow-right\", \"forward\"], [\"\", \"\", \"\", \"\"], [\"Pan\", \"Pan axes with left mouse, zoom with right\", \"fa fa-arrows icon-move\", \"pan\"], [\"Zoom\", \"Zoom to rectangle\", \"fa fa-square-o icon-check-empty\", \"zoom\"], [\"\", \"\", \"\", \"\"], [\"Download\", \"Download plot\", \"fa fa-floppy-o icon-save\", \"download\"]];\n",
       "\n",
       "mpl.extensions = [\"eps\", \"jpeg\", \"pdf\", \"png\", \"ps\", \"raw\", \"svg\", \"tif\"];\n",
       "\n",
       "mpl.default_extension = \"png\";var comm_websocket_adapter = function(comm) {\n",
       "    // Create a \"websocket\"-like object which calls the given IPython comm\n",
       "    // object with the appropriate methods. Currently this is a non binary\n",
       "    // socket, so there is still some room for performance tuning.\n",
       "    var ws = {};\n",
       "\n",
       "    ws.close = function() {\n",
       "        comm.close()\n",
       "    };\n",
       "    ws.send = function(m) {\n",
       "        //console.log('sending', m);\n",
       "        comm.send(m);\n",
       "    };\n",
       "    // Register the callback with on_msg.\n",
       "    comm.on_msg(function(msg) {\n",
       "        //console.log('receiving', msg['content']['data'], msg);\n",
       "        // Pass the mpl event to the overriden (by mpl) onmessage function.\n",
       "        ws.onmessage(msg['content']['data'])\n",
       "    });\n",
       "    return ws;\n",
       "}\n",
       "\n",
       "mpl.mpl_figure_comm = function(comm, msg) {\n",
       "    // This is the function which gets called when the mpl process\n",
       "    // starts-up an IPython Comm through the \"matplotlib\" channel.\n",
       "\n",
       "    var id = msg.content.data.id;\n",
       "    // Get hold of the div created by the display call when the Comm\n",
       "    // socket was opened in Python.\n",
       "    var element = $(\"#\" + id);\n",
       "    var ws_proxy = comm_websocket_adapter(comm)\n",
       "\n",
       "    function ondownload(figure, format) {\n",
       "        window.open(figure.imageObj.src);\n",
       "    }\n",
       "\n",
       "    var fig = new mpl.figure(id, ws_proxy,\n",
       "                           ondownload,\n",
       "                           element.get(0));\n",
       "\n",
       "    // Call onopen now - mpl needs it, as it is assuming we've passed it a real\n",
       "    // web socket which is closed, not our websocket->open comm proxy.\n",
       "    ws_proxy.onopen();\n",
       "\n",
       "    fig.parent_element = element.get(0);\n",
       "    fig.cell_info = mpl.find_output_cell(\"<div id='\" + id + \"'></div>\");\n",
       "    if (!fig.cell_info) {\n",
       "        console.error(\"Failed to find cell for figure\", id, fig);\n",
       "        return;\n",
       "    }\n",
       "\n",
       "    var output_index = fig.cell_info[2]\n",
       "    var cell = fig.cell_info[0];\n",
       "\n",
       "};\n",
       "\n",
       "mpl.figure.prototype.handle_close = function(fig, msg) {\n",
       "    fig.root.unbind('remove')\n",
       "\n",
       "    // Update the output cell to use the data from the current canvas.\n",
       "    fig.push_to_output();\n",
       "    var dataURL = fig.canvas.toDataURL();\n",
       "    // Re-enable the keyboard manager in IPython - without this line, in FF,\n",
       "    // the notebook keyboard shortcuts fail.\n",
       "    IPython.keyboard_manager.enable()\n",
       "    $(fig.parent_element).html('<img src=\"' + dataURL + '\">');\n",
       "    fig.close_ws(fig, msg);\n",
       "}\n",
       "\n",
       "mpl.figure.prototype.close_ws = function(fig, msg){\n",
       "    fig.send_message('closing', msg);\n",
       "    // fig.ws.close()\n",
       "}\n",
       "\n",
       "mpl.figure.prototype.push_to_output = function(remove_interactive) {\n",
       "    // Turn the data on the canvas into data in the output cell.\n",
       "    var dataURL = this.canvas.toDataURL();\n",
       "    this.cell_info[1]['text/html'] = '<img src=\"' + dataURL + '\">';\n",
       "}\n",
       "\n",
       "mpl.figure.prototype.updated_canvas_event = function() {\n",
       "    // Tell IPython that the notebook contents must change.\n",
       "    IPython.notebook.set_dirty(true);\n",
       "    this.send_message(\"ack\", {});\n",
       "    var fig = this;\n",
       "    // Wait a second, then push the new image to the DOM so\n",
       "    // that it is saved nicely (might be nice to debounce this).\n",
       "    setTimeout(function () { fig.push_to_output() }, 1000);\n",
       "}\n",
       "\n",
       "mpl.figure.prototype._init_toolbar = function() {\n",
       "    var fig = this;\n",
       "\n",
       "    var nav_element = $('<div/>')\n",
       "    nav_element.attr('style', 'width: 100%');\n",
       "    this.root.append(nav_element);\n",
       "\n",
       "    // Define a callback function for later on.\n",
       "    function toolbar_event(event) {\n",
       "        return fig.toolbar_button_onclick(event['data']);\n",
       "    }\n",
       "    function toolbar_mouse_event(event) {\n",
       "        return fig.toolbar_button_onmouseover(event['data']);\n",
       "    }\n",
       "\n",
       "    for(var toolbar_ind in mpl.toolbar_items){\n",
       "        var name = mpl.toolbar_items[toolbar_ind][0];\n",
       "        var tooltip = mpl.toolbar_items[toolbar_ind][1];\n",
       "        var image = mpl.toolbar_items[toolbar_ind][2];\n",
       "        var method_name = mpl.toolbar_items[toolbar_ind][3];\n",
       "\n",
       "        if (!name) { continue; };\n",
       "\n",
       "        var button = $('<button class=\"btn btn-default\" href=\"#\" title=\"' + name + '\"><i class=\"fa ' + image + ' fa-lg\"></i></button>');\n",
       "        button.click(method_name, toolbar_event);\n",
       "        button.mouseover(tooltip, toolbar_mouse_event);\n",
       "        nav_element.append(button);\n",
       "    }\n",
       "\n",
       "    // Add the status bar.\n",
       "    var status_bar = $('<span class=\"mpl-message\" style=\"text-align:right; float: right;\"/>');\n",
       "    nav_element.append(status_bar);\n",
       "    this.message = status_bar[0];\n",
       "\n",
       "    // Add the close button to the window.\n",
       "    var buttongrp = $('<div class=\"btn-group inline pull-right\"></div>');\n",
       "    var button = $('<button class=\"btn btn-mini btn-primary\" href=\"#\" title=\"Stop Interaction\"><i class=\"fa fa-power-off icon-remove icon-large\"></i></button>');\n",
       "    button.click(function (evt) { fig.handle_close(fig, {}); } );\n",
       "    button.mouseover('Stop Interaction', toolbar_mouse_event);\n",
       "    buttongrp.append(button);\n",
       "    var titlebar = this.root.find($('.ui-dialog-titlebar'));\n",
       "    titlebar.prepend(buttongrp);\n",
       "}\n",
       "\n",
       "mpl.figure.prototype._root_extra_style = function(el){\n",
       "    var fig = this\n",
       "    el.on(\"remove\", function(){\n",
       "\tfig.close_ws(fig, {});\n",
       "    });\n",
       "}\n",
       "\n",
       "mpl.figure.prototype._canvas_extra_style = function(el){\n",
       "    // this is important to make the div 'focusable\n",
       "    el.attr('tabindex', 0)\n",
       "    // reach out to IPython and tell the keyboard manager to turn it's self\n",
       "    // off when our div gets focus\n",
       "\n",
       "    // location in version 3\n",
       "    if (IPython.notebook.keyboard_manager) {\n",
       "        IPython.notebook.keyboard_manager.register_events(el);\n",
       "    }\n",
       "    else {\n",
       "        // location in version 2\n",
       "        IPython.keyboard_manager.register_events(el);\n",
       "    }\n",
       "\n",
       "}\n",
       "\n",
       "mpl.figure.prototype._key_event_extra = function(event, name) {\n",
       "    var manager = IPython.notebook.keyboard_manager;\n",
       "    if (!manager)\n",
       "        manager = IPython.keyboard_manager;\n",
       "\n",
       "    // Check for shift+enter\n",
       "    if (event.shiftKey && event.which == 13) {\n",
       "        this.canvas_div.blur();\n",
       "        event.shiftKey = false;\n",
       "        // Send a \"J\" for go to next cell\n",
       "        event.which = 74;\n",
       "        event.keyCode = 74;\n",
       "        manager.command_mode();\n",
       "        manager.handle_keydown(event);\n",
       "    }\n",
       "}\n",
       "\n",
       "mpl.figure.prototype.handle_save = function(fig, msg) {\n",
       "    fig.ondownload(fig, null);\n",
       "}\n",
       "\n",
       "\n",
       "mpl.find_output_cell = function(html_output) {\n",
       "    // Return the cell and output element which can be found *uniquely* in the notebook.\n",
       "    // Note - this is a bit hacky, but it is done because the \"notebook_saving.Notebook\"\n",
       "    // IPython event is triggered only after the cells have been serialised, which for\n",
       "    // our purposes (turning an active figure into a static one), is too late.\n",
       "    var cells = IPython.notebook.get_cells();\n",
       "    var ncells = cells.length;\n",
       "    for (var i=0; i<ncells; i++) {\n",
       "        var cell = cells[i];\n",
       "        if (cell.cell_type === 'code'){\n",
       "            for (var j=0; j<cell.output_area.outputs.length; j++) {\n",
       "                var data = cell.output_area.outputs[j];\n",
       "                if (data.data) {\n",
       "                    // IPython >= 3 moved mimebundle to data attribute of output\n",
       "                    data = data.data;\n",
       "                }\n",
       "                if (data['text/html'] == html_output) {\n",
       "                    return [cell, data, j];\n",
       "                }\n",
       "            }\n",
       "        }\n",
       "    }\n",
       "}\n",
       "\n",
       "// Register the function which deals with the matplotlib target/channel.\n",
       "// The kernel may be null if the page has been refreshed.\n",
       "if (IPython.notebook.kernel != null) {\n",
       "    IPython.notebook.kernel.comm_manager.register_target('matplotlib', mpl.mpl_figure_comm);\n",
       "}\n"
      ],
      "text/plain": [
       "<IPython.core.display.Javascript object>"
      ]
     },
     "metadata": {},
     "output_type": "display_data"
    },
    {
     "data": {
      "text/html": [
       "<img src=\"data:image/png;base64,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\">"
      ],
      "text/plain": [
       "<IPython.core.display.HTML object>"
      ]
     },
     "metadata": {},
     "output_type": "display_data"
    }
   ],
   "source": [
    "ax = plt.subplot(111, projection=wcs)\n",
    "ax.imshow(hdulist[0].data, cmap='gray', vmax=1000, interpolation ='none')\n",
    "plt.xlabel('Right Ascension[degrees]')\n",
    "plt.ylabel('declination[degrees]')\n",
    "ax.coords.grid(color='cyan', linestyle='solid', alpha=0.5)\n",
    "\n",
    "ax.set_autoscale_on(False)\n",
    "ax.plot(3000, 30000, 'o')\n",
    "\n",
    "\n",
    "overlay =  ax.get_coords_overlay('galactic')\n",
    "overlay.grid(color='orange', linestyle='solid')\n",
    "overlay['l'].set_axislabel('glactic lingtitifue [deg]')\n",
    "overlay['b'].set_axislabel('glactic lingtitifue [deg]')\n"
   ]
  },
  {
   "cell_type": "code",
   "execution_count": 27,
   "metadata": {
    "autoscroll": "json-false",
    "collapsed": false,
    "ein.tags": [
     "worksheet-0"
    ]
   },
   "outputs": [
    {
     "name": "stdout",
     "output_type": "stream",
     "text": [
      "RA---TAN DEC--TAN\n"
     ]
    }
   ],
   "source": [
    "print(hdulist[0].header['CTYPE1'], hdulist[0].header['CTYPE2'])"
   ]
  },
  {
   "cell_type": "markdown",
   "metadata": {
    "ein.tags": [
     "worksheet-0"
    ]
   },
   "source": [
    "This image now has physcial labels in the native coordinate system of the image. We can see what the coordinate system and projection of this image is using the 'CTYPE' header entries we saw earlier."
   ]
  },
  {
   "cell_type": "code",
   "execution_count": 28,
   "metadata": {
    "autoscroll": "json-false",
    "collapsed": false,
    "ein.tags": [
     "worksheet-0"
    ]
   },
   "outputs": [
    {
     "data": {
      "text/plain": [
       "2000.0"
      ]
     },
     "execution_count": 28,
     "metadata": {},
     "output_type": "execute_result"
    }
   ],
   "source": [
    "hdulist[0].header['equinox']"
   ]
  },
  {
   "cell_type": "markdown",
   "metadata": {
    "ein.tags": [
     "worksheet-0"
    ]
   },
   "source": [
    "We can tell that this is in the FK5 coordinate system by the presence of a 'equinox' entry in the header:"
   ]
  },
  {
   "cell_type": "code",
   "execution_count": 29,
   "metadata": {
    "autoscroll": "json-false",
    "collapsed": false,
    "ein.tags": [
     "worksheet-0"
    ]
   },
   "outputs": [],
   "source": [
    "from  astropy.wcs.utils import wcs_to_celestial_frame\n"
   ]
  },
  {
   "cell_type": "markdown",
   "metadata": {
    "ein.tags": [
     "worksheet-0"
    ]
   },
   "source": [
    "There is also a quick way to generate an Astropy coordinate frame from a WCS object, which confirms this diagnosis."
   ]
  },
  {
   "cell_type": "code",
   "execution_count": null,
   "metadata": {
    "autoscroll": "json-false",
    "collapsed": false,
    "ein.tags": [
     "worksheet-0"
    ]
   },
   "outputs": [],
   "source": []
  },
  {
   "cell_type": "markdown",
   "metadata": {
    "ein.tags": [
     "worksheet-0"
    ]
   },
   "source": [
    "for more information on the very useful `astropy.coordinates` module see http://docs.astropy.org/en/stable/coordinates/"
   ]
  },
  {
   "cell_type": "markdown",
   "metadata": {
    "ein.tags": [
     "worksheet-0"
    ]
   },
   "source": [
    "<section class=\"objectives panel panel-success\">\n",
    "<div class=\"panel-heading\">\n",
    "<h2><span class=\"fa fa-pencil\"></span> Add some labels </h2>\n",
    "</div>\n",
    "<br/>\n",
    "Now we have a nice plot with physically meaningful ticks, we should label our axes.\n",
    "<br/>\n",
    "\n",
    "Add labels to the axes saying \"Right Ascension [degrees]\" and \"Declination [degrees]\"\n",
    "<br/>\n",
    "\n",
    "Also overlay a coordinate grid using:\n",
    "<code>ax.coords.grid()</code>\n",
    "Look up the documentation for this method to see what parameters you can specify.\n",
    "<br/>\n",
    "</section>"
   ]
  },
  {
   "cell_type": "code",
   "execution_count": 32,
   "metadata": {
    "autoscroll": "json-false",
    "collapsed": false,
    "ein.tags": [
     "worksheet-0"
    ]
   },
   "outputs": [],
   "source": [
    "ax.coords.grid() "
   ]
  },
  {
   "cell_type": "markdown",
   "metadata": {
    "ein.tags": [
     "worksheet-0"
    ]
   },
   "source": [
    "Now we have a nice plot, we can do a couple of things to plot."
   ]
  },
  {
   "cell_type": "markdown",
   "metadata": {
    "ein.tags": [
     "worksheet-0"
    ]
   },
   "source": [
    "### Overplotting in Pixel Coordinates"
   ]
  },
  {
   "cell_type": "code",
   "execution_count": null,
   "metadata": {
    "autoscroll": "json-false",
    "collapsed": false,
    "ein.tags": [
     "worksheet-0"
    ]
   },
   "outputs": [],
   "source": []
  },
  {
   "cell_type": "markdown",
   "metadata": {
    "ein.tags": [
     "worksheet-0"
    ]
   },
   "source": [
    "### Overplotting in World Coordinates"
   ]
  },
  {
   "cell_type": "code",
   "execution_count": 19,
   "metadata": {
    "autoscroll": "json-false",
    "collapsed": false,
    "ein.tags": [
     "worksheet-0"
    ]
   },
   "outputs": [],
   "source": [
    "# Overplot in FK5 in Degrees\n"
   ]
  },
  {
   "cell_type": "markdown",
   "metadata": {
    "ein.tags": [
     "worksheet-0"
    ]
   },
   "source": [
    "<section class=\"objectives panel panel-success\">\n",
    "<div class=\"panel-heading\">\n",
    "<h2><span class=\"fa fa-pencil\"></span> Add some labels </h2>\n",
    "</div>\n",
    "\n",
    "Now overplot two lines on the image, one where you specified the line in pixel coordinates, and one where you specified the line in FK5 world coordinates.\n",
    "\n",
    "</section>"
   ]
  },
  {
   "cell_type": "code",
   "execution_count": 20,
   "metadata": {
    "collapsed": false
   },
   "outputs": [],
   "source": [
    "# Overplot in FK5 in Degrees\n"
   ]
  },
  {
   "cell_type": "markdown",
   "metadata": {},
   "source": [
    "###  Overplotting Another Coordinate System"
   ]
  },
  {
   "cell_type": "code",
   "execution_count": null,
   "metadata": {
    "autoscroll": "json-false",
    "collapsed": false,
    "ein.tags": [
     "worksheet-0"
    ]
   },
   "outputs": [],
   "source": []
  },
  {
   "cell_type": "markdown",
   "metadata": {
    "ein.tags": [
     "worksheet-0"
    ]
   },
   "source": [
    "## SunPy Map"
   ]
  },
  {
   "cell_type": "markdown",
   "metadata": {
    "ein.tags": [
     "worksheet-0"
    ]
   },
   "source": [
    "The SunPy Map class is a wrapper for solar images which makes some of the above opertations easier."
   ]
  },
  {
   "cell_type": "code",
   "execution_count": null,
   "metadata": {
    "autoscroll": "json-false",
    "collapsed": false,
    "ein.tags": [
     "worksheet-0"
    ]
   },
   "outputs": [],
   "source": []
  },
  {
   "cell_type": "markdown",
   "metadata": {
    "ein.tags": [
     "worksheet-0"
    ]
   },
   "source": [
    "This has done a quick plot of the test image `AIA_171_ROLL_IMAGE` using wcsaxes.\n",
    "If we want to customise the plot we use the `plot()` method."
   ]
  },
  {
   "cell_type": "code",
   "execution_count": null,
   "metadata": {
    "autoscroll": "json-false",
    "collapsed": false,
    "ein.tags": [
     "worksheet-0"
    ]
   },
   "outputs": [],
   "source": []
  },
  {
   "cell_type": "code",
   "execution_count": null,
   "metadata": {
    "autoscroll": "json-false",
    "collapsed": false,
    "ein.tags": [
     "worksheet-0"
    ]
   },
   "outputs": [],
   "source": []
  },
  {
   "cell_type": "code",
   "execution_count": null,
   "metadata": {
    "autoscroll": "json-false",
    "collapsed": false,
    "ein.tags": [
     "worksheet-0"
    ]
   },
   "outputs": [],
   "source": []
  },
  {
   "cell_type": "code",
   "execution_count": null,
   "metadata": {
    "autoscroll": "json-false",
    "collapsed": false,
    "ein.tags": [
     "worksheet-0"
    ],
    "scrolled": true
   },
   "outputs": [],
   "source": []
  },
  {
   "cell_type": "markdown",
   "metadata": {
    "ein.tags": [
     "worksheet-0"
    ]
   },
   "source": [
    "<section class=\"objectives panel panel-success\">\n",
    "<div class=\"panel-heading\">\n",
    "<h2><span class=\"fa fa-pencil\"></span> Rotate your Owl </h2>\n",
    "</div>\n",
    "Why is the Sun wonky?\n",
    "\n",
    "Use the [`rotate()`](http://docs.sunpy.org/en/stable/code_ref/map.html#sunpy.map.mapbase.GenericMap.rotate) method of SunPy Map to align the coordinate grid to the pixel grid in this sample image.\n",
    "\n",
    "Once you have run rotate, plot the resulting image, and compare with the one above.\n",
    "</section>"
   ]
  },
  {
   "cell_type": "code",
   "execution_count": null,
   "metadata": {
    "collapsed": false
   },
   "outputs": [],
   "source": []
  }
 ],
 "metadata": {
  "kernelspec": {
   "display_name": "Python 2",
   "language": "python",
   "name": "python2"
  },
  "language_info": {
   "codemirror_mode": {
    "name": "ipython",
    "version": 2
   },
   "file_extension": ".py",
   "mimetype": "text/x-python",
   "name": "python",
   "nbconvert_exporter": "python",
   "pygments_lexer": "ipython2",
   "version": "2.7.11"
  },
  "name": "Astro_Images.ipynb"
 },
 "nbformat": 4,
 "nbformat_minor": 0
}
